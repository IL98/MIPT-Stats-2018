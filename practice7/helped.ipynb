{
 "cells": [
  {
   "cell_type": "code",
   "execution_count": 1,
   "metadata": {},
   "outputs": [],
   "source": [
    "import numpy as np\n",
    "import pandas as pd\n",
    "import scipy.stats as sps\n",
    "import matplotlib.pyplot as plt\n",
    "import seaborn as sns\n",
    "from statsmodels.sandbox.stats.multicomp import multipletests\n",
    "from tqdm import tqdm_notebook\n",
    "\n",
    "from sklearn.linear_model import LinearRegression\n",
    "from sklearn.linear_model import Ridge\n",
    "from sklearn.linear_model import Lasso\n",
    "from sklearn.model_selection import train_test_split\n",
    "from sklearn.metrics import mean_squared_error\n",
    "from sklearn.datasets import load_boston\n",
    "from scipy.linalg import eigvals\n",
    "\n",
    "%matplotlib inline"
   ]
  },
  {
   "cell_type": "code",
   "execution_count": 2,
   "metadata": {},
   "outputs": [
    {
     "data": {
      "application/vnd.jupyter.widget-view+json": {
       "model_id": "466c7e3d71f4481c845dbc21a9698c0c",
       "version_major": 2,
       "version_minor": 0
      },
      "text/plain": [
       "HBox(children=(IntProgress(value=0, max=96), HTML(value='')))"
      ]
     },
     "metadata": {},
     "output_type": "display_data"
    },
    {
     "name": "stdout",
     "output_type": "stream",
     "text": [
      "\n"
     ]
    }
   ],
   "source": [
    "alpha = 0.05\n",
    "\n",
    "max_sample_size = 100\n",
    "sample_count = 10000\n",
    "\n",
    "sample = sps.cauchy().rvs((sample_count, max_sample_size))\n",
    "\n",
    "is_reject_kstest = np.zeros((max_sample_size + 1, sample_count))\n",
    "is_reject_jarque_bera = np.zeros((max_sample_size + 1, sample_count))\n",
    "is_reject_shapiro_wilk = np.zeros((max_sample_size + 1, sample_count))\n",
    "\n",
    "\n",
    "for i in tqdm_notebook(range(5, max_sample_size+1)):\n",
    "    for j in range(sample_count):\n",
    "        is_reject_kstest[i, j] = (sps.kstest(sample[j, :i+1], cdf=sps.norm().cdf)[1] < alpha)\n",
    "        is_reject_jarque_bera[i, j] = (sps.jarque_bera(sample[j, :i+1])[1] < alpha)\n",
    "        is_reject_shapiro_wilk[i, j] = (sps.shapiro(sample[j, :i+1])[1] < alpha)\n",
    "\n",
    "        \n",
    "kstest_check = is_reject_kstest[5:].mean(axis=1)\n",
    "jarque_bera_check = is_reject_jarque_bera[5:].mean(axis=1)\n",
    "shapiro_wilk_check = is_reject_shapiro_wilk[5:].mean(axis=1)"
   ]
  },
  {
   "cell_type": "code",
   "execution_count": 4,
   "metadata": {},
   "outputs": [],
   "source": [
    "np.savetxt('kstest_power.txt', kstest_check, fmt='%f')\n",
    "np.savetxt('jarque_bera_power.txt', jarque_bera_check, fmt='%f')\n",
    "np.savetxt('shapiro_power.txt', shapiro_wilk_check, fmt='%f')"
   ]
  },
  {
   "cell_type": "code",
   "execution_count": null,
   "metadata": {},
   "outputs": [],
   "source": []
  }
 ],
 "metadata": {
  "kernelspec": {
   "display_name": "Python 3",
   "language": "python",
   "name": "python3"
  },
  "language_info": {
   "codemirror_mode": {
    "name": "ipython",
    "version": 3
   },
   "file_extension": ".py",
   "mimetype": "text/x-python",
   "name": "python",
   "nbconvert_exporter": "python",
   "pygments_lexer": "ipython3",
   "version": "3.6.4"
  }
 },
 "nbformat": 4,
 "nbformat_minor": 2
}
